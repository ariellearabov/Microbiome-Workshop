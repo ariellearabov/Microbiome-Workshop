{
 "cells": [
  {
   "cell_type": "code",
   "execution_count": 2,
   "metadata": {},
   "outputs": [],
   "source": [
    "import os\n",
    "import pandas as pd\n",
    "import numpy as np\n",
    "\n",
    "os.chdir(\"data\")\n",
    "paths = os.listdir()\n",
    "\n",
    "def upload_dfs(paths):\n",
    "    relevant_paths = [path for path in paths if path.endswith(\".txt\")] \n",
    "    dfs = []\n",
    "    for i in range(len(relevant_paths)):\n",
    "        path = relevant_paths[i]\n",
    "        if path == \"kegg_names.txt\":\n",
    "            dfs.append((pd.read_fwf(path, header=None, names=[\"SampleID\", \"pathway_name\"]), path))\n",
    "        elif path == \"metadata.txt\":\n",
    "            dfs.append((pd.read_table(path, header=0), path))\n",
    "        else:\n",
    "            dfs.append((pd.read_csv(path, sep=' ', header=0), path))\n",
    "        dfs[i][0].set_index(\"SampleID\", inplace=True)\n",
    "    return dfs\n",
    "\n",
    "dfs = upload_dfs(paths)\n",
    "\n",
    "\n"
   ]
  },
  {
   "cell_type": "code",
   "execution_count": 18,
   "metadata": {},
   "outputs": [
    {
     "data": {
      "text/plain": [
       "array([62., 71., 52., 76., 68., 54., 63., 46., 59., 44., 72., 60., 61.,\n",
       "       37., 27., 48., 42., 56., 58., 70., 28., 26., 49., 55., 53., 30.,\n",
       "       51., 43., 29., 40., 65., 35., 66., 75., 45., 31., 57., 69., 33.,\n",
       "       74., 73., 23., 50., 36., 67., 64., 24., 39., 47., 41., 20., 25.,\n",
       "       32., 38., 34., 22., nan])"
      ]
     },
     "execution_count": 18,
     "metadata": {},
     "output_type": "execute_result"
    }
   ],
   "source": [
    "meta = dfs[1][0]\n",
    "meta.AGE.unique()"
   ]
  },
  {
   "cell_type": "code",
   "execution_count": 39,
   "metadata": {},
   "outputs": [
    {
     "name": "stdout",
     "output_type": "stream",
     "text": [
      "no. of samples: 1058, no. of mtx_genus_cols: 710 \n",
      "no. of samples: 1058, no. of metadata_cols: 5 \n",
      "no. of samples: 1058, no. of serum_lipo_cols: 106 \n",
      "no. of samples: 1058, no. of urine_mtb_cols: 50 \n",
      "no. of samples: 1058, no. of mtx_phylum_cols: 33 \n",
      "no. of samples: 1058, no. of serum_mtb_cols: 80 \n",
      "no. of samples: 1058, no. of mtx_family_cols: 246 \n",
      "no. of samples: 1058, no. of mtx_kegg_cols: 660 \n",
      "no. of samples: 1058, no. of mtx_specie_cols: 1938 \n",
      "no. of samples: 1058, no. of mtx_class_cols: 54 \n",
      "no. of samples: 705, no. of kegg_names_cols: 1 \n",
      "no. of samples: 1058, no. of mtx_order_cols: 114 \n"
     ]
    }
   ],
   "source": [
    "def peek_at_data(dfs_list):\n",
    "    for elm in dfs_list:\n",
    "        print(f'no. of samples: %d, no. of {elm[1].split(\".\")[0]+\"_cols\"}: %d ' % elm[0].shape)\n",
    "\n",
    "peek_at_data(dfs)"
   ]
  },
  {
   "cell_type": "code",
   "execution_count": 47,
   "metadata": {},
   "outputs": [
    {
     "name": "stdout",
     "output_type": "stream",
     "text": [
      "toal missing values: 915 out of toal observations: 5290\n",
      "so that's 0.17 missing \n",
      "\n"
     ]
    }
   ],
   "source": [
    "# test\n",
    "\n",
    "meta = dfs[1][0]\n",
    "meta\n",
    "miss = meta.isnull().sum().sum()\n",
    "tot = np.prod(meta.shape)\n",
    "print('toal missing values: %d out of toal observations: %d' % (miss, tot))\n",
    "print('so that\\'s %.2f missing \\n' % (miss/tot))\n"
   ]
  },
  {
   "cell_type": "code",
   "execution_count": 48,
   "metadata": {},
   "outputs": [
    {
     "name": "stdout",
     "output_type": "stream",
     "text": [
      "In mtx_genus-\n",
      "toal missing values: 716364 out of toal observations: 751180\n",
      "so that's 0.95 missing \n",
      "\n",
      "In metadata-\n",
      "toal missing values: 915 out of toal observations: 5290\n",
      "so that's 0.17 missing \n",
      "\n",
      "In serum_lipo-\n",
      "toal missing values: 6196 out of toal observations: 112148\n",
      "so that's 0.06 missing \n",
      "\n",
      "In urine_mtb-\n",
      "toal missing values: 6203 out of toal observations: 52900\n",
      "so that's 0.12 missing \n",
      "\n",
      "In mtx_phylum-\n",
      "toal missing values: 28061 out of toal observations: 34914\n",
      "so that's 0.80 missing \n",
      "\n",
      "In serum_mtb-\n",
      "toal missing values: 0 out of toal observations: 84640\n",
      "so that's 0.00 missing \n",
      "\n"
     ]
    }
   ],
   "source": [
    "import numpy as np\n",
    "\n",
    "for i in range(0,6):\n",
    "    elm = dfs[i]\n",
    "    df = elm[0]\n",
    "    if (\"metadata\" in elm[1]):\n",
    "        total_missing = df.isnull().sum().sum()\n",
    "    elif (\"kegg_names\" in elm[1]):\n",
    "        continue\n",
    "    else:\n",
    "        df[df == 0] = None \n",
    "        total_missing = np.sum(np.isnan(df.values))\n",
    "    total_obs = np.prod(df.shape)\n",
    "    print(f'In {elm[1].split(\".\")[0]}-')\n",
    "    print('toal missing values: %d out of toal observations: %d' % (total_missing, total_obs))\n",
    "    print('so that\\'s %.2f missing \\n' % (total_missing/total_obs))"
   ]
  },
  {
   "cell_type": "code",
   "execution_count": 42,
   "metadata": {},
   "outputs": [
    {
     "name": "stdout",
     "output_type": "stream",
     "text": [
      "In mtx_family-\n",
      "toal missing values: 237932 out of toal observations: 260268\n",
      "so that's 0.91 missing \n",
      "\n",
      "In mtx_kegg-\n",
      "toal missing values: 104146 out of toal observations: 698280\n",
      "so that's 0.15 missing \n",
      "\n",
      "In mtx_specie-\n",
      "toal missing values: 1893453 out of toal observations: 2050404\n",
      "so that's 0.92 missing \n",
      "\n",
      "In mtx_class-\n",
      "toal missing values: 45305 out of toal observations: 57132\n",
      "so that's 0.79 missing \n",
      "\n",
      "In mtx_order-\n",
      "toal missing values: 106220 out of toal observations: 120612\n",
      "so that's 0.88 missing \n",
      "\n"
     ]
    }
   ],
   "source": [
    "for i in range(6,12):\n",
    "    elm = dfs[i]\n",
    "    df = elm[0]\n",
    "    if ((\"metadata\" in elm[1]) or (\"kegg_names\" in elm[1])):\n",
    "        continue\n",
    "    df[df == 0] = None \n",
    "    total_missing = np.sum(np.isnan(df.values))\n",
    "    total_obs = np.prod(df.shape)\n",
    "    print(f'In {elm[1].split(\".\")[0]}-')\n",
    "    print('toal missing values: %d out of toal observations: %d' % (total_missing, total_obs))\n",
    "    print('so that\\'s %.2f missing \\n' % (total_missing/total_obs))"
   ]
  }
 ],
 "metadata": {
  "kernelspec": {
   "display_name": "Python 3",
   "language": "python",
   "name": "python3"
  },
  "language_info": {
   "codemirror_mode": {
    "name": "ipython",
    "version": 3
   },
   "file_extension": ".py",
   "mimetype": "text/x-python",
   "name": "python",
   "nbconvert_exporter": "python",
   "pygments_lexer": "ipython3",
   "version": "3.10.7"
  },
  "orig_nbformat": 4
 },
 "nbformat": 4,
 "nbformat_minor": 2
}
